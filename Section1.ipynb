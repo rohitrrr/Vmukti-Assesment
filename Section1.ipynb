{
 "cells": [
  {
   "cell_type": "markdown",
   "metadata": {},
   "source": [
    "Section 1 Python and OOP\n"
   ]
  },
  {
   "cell_type": "markdown",
   "metadata": {},
   "source": [
    "Task 1: Neural Network Implementation"
   ]
  },
  {
   "cell_type": "code",
   "execution_count": 7,
   "metadata": {},
   "outputs": [
    {
     "name": "stdout",
     "output_type": "stream",
     "text": [
      "Training Sample-Network model with input size 1024 and output size 10\n"
     ]
    }
   ],
   "source": [
    "class NeuralNetwork:\n",
    "    def __init__(self, name, input_size, output_size):\n",
    "        self.name = name\n",
    "        self.input_size = input_size\n",
    "        self.output_size = output_size\n",
    "    \n",
    "    def train(self):\n",
    "        print(f\"Training {self.name} model with input size {self.input_size} and output size {self.output_size}\")\n",
    "\n",
    "\n",
    "model = NeuralNetwork(\"Sample-Network\", 1024, 10)\n",
    "model.train()"
   ]
  },
  {
   "cell_type": "markdown",
   "metadata": {},
   "source": [
    "Task 2: OOP Concepts"
   ]
  },
  {
   "cell_type": "markdown",
   "metadata": {},
   "source": [
    "Inheritance vs Polymorphism Example Theory with examples"
   ]
  },
  {
   "cell_type": "markdown",
   "metadata": {},
   "source": [
    "1 Inheritance is an OOP concept where a child class acquires the properties and methods of another parent class, promoting code reuse and creating a hierarchical relationship.\n",
    "\n",
    "There are many types of inheritance. \n",
    "\n",
    "        1. Simple inheritance \n",
    "        2. Multiple inheritance\n",
    "        3. Hierarchical inheritance         "
   ]
  },
  {
   "cell_type": "code",
   "execution_count": 8,
   "metadata": {},
   "outputs": [
    {
     "name": "stdout",
     "output_type": "stream",
     "text": [
      "Toyota vehicle is starting\n",
      "Toyota car is driving\n",
      "Prius vehicle is starting\n",
      "Charging...\n",
      "Refueling...\n",
      "Prius hybrid using both systems\n",
      "Volvo vehicle is starting\n",
      "Mercedes vehicle is starting\n",
      "Volvo truck is loading cargo\n",
      "Mercedes bus is boarding passengers\n"
     ]
    }
   ],
   "source": [
    "# Base Classes\n",
    "class Vehicle:\n",
    "    def __init__(self, brand):\n",
    "        self.brand = brand\n",
    "    \n",
    "    def start(self):\n",
    "        return f\"{self.brand} vehicle is starting\"\n",
    "\n",
    "class ElectricSystem:\n",
    "    def charge(self):\n",
    "        return \"Charging...\"\n",
    "\n",
    "class FuelSystem:\n",
    "    def refuel(self):\n",
    "        return \"Refueling...\"\n",
    "\n",
    "# Simple Inheritance\n",
    "class Car(Vehicle):\n",
    "    def drive(self):\n",
    "        return f\"{self.brand} car is driving\"\n",
    "\n",
    "# Multiple Inheritance\n",
    "class HybridCar(Car, ElectricSystem, FuelSystem):\n",
    "    def operate(self):\n",
    "        return f\"{self.brand} hybrid using both systems\"\n",
    "\n",
    "# Hierarchical Inheritance\n",
    "class Truck(Vehicle):\n",
    "    def load(self):\n",
    "        return f\"{self.brand} truck is loading cargo\"\n",
    "\n",
    "class Bus(Vehicle):\n",
    "    def board(self):\n",
    "        return f\"{self.brand} bus is boarding passengers\"\n",
    "\n",
    "\n",
    "\n",
    "\n",
    "car = Car(\"Toyota\")\n",
    "print(car.start())  \n",
    "print(car.drive())  \n",
    "\n",
    "\n",
    "hybrid = HybridCar(\"Prius\")\n",
    "print(hybrid.start())    \n",
    "print(hybrid.charge())   \n",
    "print(hybrid.refuel())   \n",
    "print(hybrid.operate()) \n",
    "\n",
    "\n",
    "truck = Truck(\"Volvo\")\n",
    "bus = Bus(\"Mercedes\")\n",
    "print(truck.start())  \n",
    "print(bus.start())    \n",
    "print(truck.load())   \n",
    "print(bus.board())    \n"
   ]
  },
  {
   "cell_type": "markdown",
   "metadata": {},
   "source": [
    "2 Polymorphism is an OOP concept that allows a single method or function to perform different behaviors based on the object that invokes it. It enhances code flexibility and reusability.\n",
    "    There are two types of Polymorphism. \n",
    "\n",
    "        1. Compile-Time Polymorphism (Method Overloading)\n",
    "        2. Run-Time Polymorphism (Method Overriding)"
   ]
  },
  {
   "cell_type": "markdown",
   "metadata": {},
   "source": [
    "Example 1 Operator Overloading"
   ]
  },
  {
   "cell_type": "code",
   "execution_count": 9,
   "metadata": {},
   "outputs": [
    {
     "name": "stdout",
     "output_type": "stream",
     "text": [
      "30\n"
     ]
    }
   ],
   "source": [
    "class NumberHolder:\n",
    "    def __init__(self, value):\n",
    "        self.value = value\n",
    "\n",
    "    # Overload the '+' operator\n",
    "    def __add__(self, other):\n",
    "        return NumberHolder(self.value + other.value)\n",
    "\n",
    "    def __str__(self):\n",
    "        return str(self.value)\n",
    "\n",
    "x = NumberHolder(10)\n",
    "y = NumberHolder(20)\n",
    "z = x + y  \n",
    "\n",
    "print(z)  # Prints: 30\n"
   ]
  },
  {
   "cell_type": "markdown",
   "metadata": {},
   "source": [
    "Example 2 Method Overridding"
   ]
  },
  {
   "cell_type": "code",
   "execution_count": 10,
   "metadata": {},
   "outputs": [
    {
     "name": "stdout",
     "output_type": "stream",
     "text": [
      "aaaaaaaooooooooo\n",
      "Woof!\n"
     ]
    }
   ],
   "source": [
    "class Animal:\n",
    "    def speak(self):\n",
    "        print(\"aaaaaaaooooooooo\")\n",
    "\n",
    "class Dog(Animal):\n",
    "    def speak(self):\n",
    "        print(\"Woof!\")\n",
    "\n",
    "\n",
    "animal1 = Animal()\n",
    "animal2 = Dog()\n",
    "\n",
    "animal1.speak()\n",
    "animal2.speak()\n",
    "\n",
    "\n"
   ]
  }
 ],
 "metadata": {
  "kernelspec": {
   "display_name": "Python 3",
   "language": "python",
   "name": "python3"
  },
  "language_info": {
   "codemirror_mode": {
    "name": "ipython",
    "version": 3
   },
   "file_extension": ".py",
   "mimetype": "text/x-python",
   "name": "python",
   "nbconvert_exporter": "python",
   "pygments_lexer": "ipython3",
   "version": "3.11.9"
  }
 },
 "nbformat": 4,
 "nbformat_minor": 2
}
